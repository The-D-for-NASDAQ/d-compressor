{
 "cells": [
  {
   "cell_type": "code",
   "execution_count": 21,
   "outputs": [],
   "source": [
    "import datetime\n",
    "import matplotlib.pyplot as plt\n",
    "import seaborn as sns\n",
    "import numpy as np\n",
    "import pandas as pd\n",
    "from tqdm import tqdm\n",
    "\n",
    "tqdm.pandas()\n",
    "\n",
    "floor_price_round = 0.5 # TODO: levels per $ (2 / 2^2)\n",
    "filename = 'AAPL_20180102.csv'\n",
    "\n",
    "raw_columns = ['Date', 'Timestamp', 'OrderNumber', 'EventType', 'Price', 'Quantity', 'Exchange']\n",
    "records = pd.read_csv(filename, usecols=raw_columns)\n",
    "\n",
    "records['OrderNumber'] = records['Exchange'] + records['OrderNumber'].astype(str)\n",
    "\n",
    "records['DateTime'] = records['Date'].apply(str) + ' ' + records['Timestamp']\n",
    "records['DateTime'] = pd.to_datetime(records['DateTime'], format='%Y%m%d %H:%M:%S.%f')\n",
    "records['Timestamp'] = records['DateTime'].values.astype(np.int64) // 10 ** 9\n",
    "\n",
    "start_day_timestamp = int(records['DateTime'][0].timestamp())\n",
    "records['time_index'] = np.int32((records['Timestamp'] - start_day_timestamp) / 60)  # index per minute\n",
    "\n",
    "records['price_level'] = np.int32(records['Price'] * 2)  # index per minute\n",
    "\n",
    "records = records.drop(['Date', 'DateTime', 'Timestamp', 'Exchange'], axis=1)"
   ],
   "metadata": {
    "collapsed": false,
    "pycharm": {
     "name": "#%%\n"
    }
   }
  },
  {
   "cell_type": "code",
   "source": [
    "# full d configuration\n",
    "num_layers = 5  # Price, Ordered volume, Filled volume, Canceled volume, Pending volume\n",
    "num_price_levels = 500 * 2  # price level ($500), 50 cents per level (*2)\n",
    "minutes_per_day = 16 * 60  # 960, 16 hours of data per day, from 4:00 to 20:00\n",
    "\n",
    "full_d_asks = np.zeros((num_layers, num_price_levels, minutes_per_day), np.float32)\n",
    "full_d_bids = np.zeros((num_layers, num_price_levels, minutes_per_day), np.float32)\n",
    "\n",
    "incrementer = 0\n",
    "for d_price_index in range(0, num_price_levels):\n",
    "    for time_index in range(0, minutes_per_day):\n",
    "        full_d_asks[0, d_price_index, time_index] = incrementer\n",
    "    incrementer += floor_price_round\n",
    "\n",
    "full_d_records = records\\\n",
    "    .loc[records['price_level'] < num_price_levels]\\\n",
    "    .loc[records['time_index'] < minutes_per_day]\n",
    "\n",
    "\n",
    "def process_add_record(r, full_d):\n",
    "    full_d[1, r.price_level, r.time_index] += r.Quantity\n",
    "\n",
    "def process_trade_records(r, full_d):\n",
    "    full_d[2, r.price_level, r.time_index] += r.Quantity\n",
    "\n",
    "def process_execute_price_records(r, full_d):\n",
    "    full_d[2, r.price_level, r.time_index] += r.Quantity\n",
    "\n",
    "\n",
    "def process_execute_priceless_records(r, full_d):\n",
    "    full_d[2, r.price_level_add, r.time_index_execute] += r.Quantity_execute\n",
    "\n",
    "def process_fill_records(r, full_d):\n",
    "    full_d[2, r.price_level_add, r.time_index_fill] += r.Quantity_add\n",
    "\n",
    "def process_cancel_records(r, full_d):\n",
    "    full_d[3, r.price_level_add, r.time_index_cancel] += r.Quantity_cancel\n",
    "\n",
    "def process_delete_records(r, full_d):\n",
    "    quantity = r.Quantity_delete if r.Quantity_delete != 0 else r.Quantity_add\n",
    "    full_d[3, r.price_level_add, r.time_index_delete] += quantity\n",
    "\n",
    "\n",
    "def process_side_records(side): # TODO:\n",
    "    pass\n",
    "\n",
    "full_d_price_records = full_d_records.loc[full_d_records['Price'] != 0]\n",
    "\n",
    "full_d_price_records\\\n",
    "    .loc[full_d_price_records['EventType'] == 'ADD ASK']\\\n",
    "        .progress_apply(process_add_record, full_d=full_d_asks, axis=1)\n",
    "\n",
    "full_d_asks[4] = full_d_asks[1]\n",
    "\n",
    "full_d_price_records\\\n",
    "    .loc[full_d_price_records['EventType'] == 'TRADE ASK']\\\n",
    "        .progress_apply(process_trade_records, full_d=full_d_asks, axis=1)\n",
    "\n",
    "full_d_price_records\\\n",
    "    .loc[full_d_price_records['EventType'] == 'EXECUTE ASK']\\\n",
    "        .progress_apply(process_execute_price_records, full_d=full_d_asks, axis=1)\n",
    "\n",
    "\n",
    "full_d_priceless_records = full_d_records.loc[full_d_records['Price'] == 0]\n",
    "add_asks = full_d_records.loc[full_d_records['EventType'] == 'ADD ASK'].set_index('OrderNumber')\n",
    "\n",
    "fill_asks = full_d_priceless_records.loc[full_d_priceless_records['EventType'] == 'FILL ASK'].set_index('OrderNumber')\n",
    "full_fill_asks = fill_asks.join(add_asks, on='OrderNumber', how='left', lsuffix='_fill', rsuffix='_add')\n",
    "full_fill_asks\\\n",
    "    .loc[full_fill_asks['time_index_fill'] >= full_fill_asks['time_index_add']]\\\n",
    "        .progress_apply(process_fill_records, full_d=full_d_asks, axis=1)\n",
    "\n",
    "execute_asks = full_d_priceless_records.loc[full_d_priceless_records['EventType'] == 'EXECUTE ASK'].set_index('OrderNumber')\n",
    "full_execute_asks = execute_asks.join(add_asks, on='OrderNumber', how='left', lsuffix='_execute', rsuffix='_add')\n",
    "full_execute_asks\\\n",
    "    .loc[full_execute_asks['time_index_execute'] >= full_execute_asks['time_index_add']]\\\n",
    "        .progress_apply(process_execute_priceless_records, full_d=full_d_asks, axis=1)\n",
    "\n",
    "cancel_asks = full_d_priceless_records.loc[full_d_priceless_records['EventType'] == 'CANCEL ASK'].set_index('OrderNumber')\n",
    "full_cancel_asks = cancel_asks.join(add_asks, on='OrderNumber', how='left', lsuffix='_cancel', rsuffix='_add')\n",
    "full_cancel_asks\\\n",
    "    .loc[full_cancel_asks['time_index_cancel'] >= full_cancel_asks['time_index_add']]\\\n",
    "        .progress_apply(process_cancel_records, full_d=full_d_asks, axis=1)\n",
    "\n",
    "\n",
    "delete_asks = full_d_priceless_records.loc[full_d_priceless_records['EventType'] == 'DELETE ASK'].set_index('OrderNumber')\n",
    "full_delete_asks = delete_asks.join(add_asks, on='OrderNumber', how='left', lsuffix='_delete', rsuffix='_add')\n",
    "full_delete_asks['price_level_add'] = np.int32(full_delete_asks['price_level_add']) # after join right table has wrong column types\n",
    "full_delete_asks\\\n",
    "    .loc[full_delete_asks['time_index_delete'] >= full_delete_asks['time_index_add']]\\\n",
    "        .progress_apply(process_delete_records, full_d=full_d_asks, axis=1)\n",
    "\n",
    "\n",
    "for p_index in range(0, num_price_levels):\n",
    "    for t_index in range(0, minutes_per_day):\n",
    "        full_d_asks[4, p_index, t_index] = \\\n",
    "            full_d_asks[4, p_index, t_index - 1 if t_index - 1 > 0 else 0] \\\n",
    "            + full_d_asks[1, p_index, t_index] \\\n",
    "            - full_d_asks[2, p_index, t_index] \\\n",
    "            - full_d_asks[3, p_index, t_index]\n",
    "\n",
    "\n",
    "# TODO: BID\n",
    "print()"
   ],
   "metadata": {
    "collapsed": false,
    "pycharm": {
     "name": "#%%\n"
    }
   },
   "execution_count": 22,
   "outputs": [
    {
     "name": "stderr",
     "output_type": "stream",
     "text": [
      "100%|██████████| 296653/296653 [00:21<00:00, 13659.15it/s]\n",
      "100%|██████████| 342/342 [00:00<00:00, 12153.59it/s]\n",
      "100%|██████████| 6581/6581 [00:00<00:00, 10216.87it/s]\n",
      "100%|██████████| 17005/17005 [00:01<00:00, 13502.00it/s]\n",
      "100%|██████████| 5199/5199 [00:00<00:00, 13255.15it/s]\n",
      "100%|██████████| 856/856 [00:00<00:00, 13293.16it/s]\n",
      "100%|██████████| 288537/288537 [00:22<00:00, 12654.05it/s]\n"
     ]
    },
    {
     "name": "stdout",
     "output_type": "stream",
     "text": [
      "\n"
     ]
    }
   ]
  },
  {
   "cell_type": "code",
   "execution_count": 27,
   "outputs": [],
   "source": [
    "for p_index in range(0, num_price_levels):\n",
    "    for t_index in range(0, minutes_per_day):\n",
    "        full_d_asks[4, p_index, t_index] = \\\n",
    "            full_d_asks[4, p_index, t_index - 1 if t_index - 1 > 0 else 0] \\\n",
    "            + full_d_asks[1, p_index, t_index] \\\n",
    "            - full_d_asks[2, p_index, t_index] \\\n",
    "            - full_d_asks[3, p_index, t_index]\n",
    "\n",
    "        if full_d_asks[4, p_index, t_index] < 0:\n",
    "            full_d_asks[4, p_index, t_index]  = 0"
   ],
   "metadata": {
    "collapsed": false,
    "pycharm": {
     "name": "#%%\n"
    }
   }
  },
  {
   "cell_type": "code",
   "execution_count": 23,
   "outputs": [
    {
     "data": {
      "text/plain": "<Figure size 864x576 with 2 Axes>",
      "image/png": "[encoded data removed]"
     },
     "metadata": {
      "needs_background": "light"
     },
     "output_type": "display_data"
    }
   ],
   "source": [
    "plt.figure(figsize=(12, 8))\n",
    "sns.heatmap(full_d_asks[1, 335:350], cmap='rocket_r')\n",
    "plt.show()"
   ],
   "metadata": {
    "collapsed": false,
    "pycharm": {
     "name": "#%%\n"
    }
   }
  },
  {
   "cell_type": "code",
   "execution_count": 24,
   "outputs": [
    {
     "data": {
      "text/plain": "<Figure size 864x576 with 2 Axes>",
      "image/png": "[encoded data removed]"
     },
     "metadata": {
      "needs_background": "light"
     },
     "output_type": "display_data"
    }
   ],
   "source": [
    "plt.figure(figsize=(12, 8))\n",
    "sns.heatmap(full_d_asks[2, 335:350], cmap='rocket_r')\n",
    "plt.show()"
   ],
   "metadata": {
    "collapsed": false,
    "pycharm": {
     "name": "#%%\n"
    }
   }
  },
  {
   "cell_type": "code",
   "execution_count": 25,
   "outputs": [
    {
     "data": {
      "text/plain": "<Figure size 864x576 with 2 Axes>",
      "image/png": "[encoded data removed]"
     },
     "metadata": {
      "needs_background": "light"
     },
     "output_type": "display_data"
    }
   ],
   "source": [
    "plt.figure(figsize=(12, 8))\n",
    "sns.heatmap(full_d_asks[3, 335:350], cmap='rocket_r')\n",
    "plt.show()"
   ],
   "metadata": {
    "collapsed": false,
    "pycharm": {
     "name": "#%%\n"
    }
   }
  },
  {
   "cell_type": "code",
   "execution_count": 26,
   "outputs": [
    {
     "data": {
      "text/plain": "<Figure size 864x576 with 2 Axes>",
      "image/png": "[encoded data removed]"
     },
     "metadata": {
      "needs_background": "light"
     },
     "output_type": "display_data"
    }
   ],
   "source": [
    "plt.figure(figsize=(12, 8))\n",
    "full_d_asks[4, 335:350][full_d_asks[4, 335:350] < 0] = 0\n",
    "\n",
    "sns.heatmap(full_d_asks[4, 335:350], cmap='rocket_r')\n",
    "plt.show()"
   ],
   "metadata": {
    "collapsed": false,
    "pycharm": {
     "name": "#%%\n"
    }
   }
  },
  {
   "cell_type": "code",
   "execution_count": null,
   "outputs": [],
   "source": [],
   "metadata": {
    "collapsed": false,
    "pycharm": {
     "name": "#%%\n"
    }
   }
  },
  {
   "cell_type": "code",
   "execution_count": null,
   "outputs": [],
   "source": [],
   "metadata": {
    "collapsed": false,
    "pycharm": {
     "name": "#%%\n"
    }
   }
  },
  {
   "cell_type": "code",
   "execution_count": null,
   "outputs": [],
   "source": [],
   "metadata": {
    "collapsed": false,
    "pycharm": {
     "name": "#%%\n"
    }
   }
  },
  {
   "cell_type": "code",
   "execution_count": 35,
   "outputs": [
    {
     "data": {
      "text/plain": "array([[0., 0., 0., ..., 0., 0., 0.],\n       [0., 0., 0., ..., 0., 0., 0.],\n       [0., 0., 0., ..., 0., 0., 0.],\n       ...,\n       [0., 0., 0., ..., 0., 0., 0.],\n       [0., 0., 0., ..., 0., 0., 0.],\n       [0., 0., 0., ..., 0., 0., 0.]], dtype=float32)"
     },
     "execution_count": 35,
     "metadata": {},
     "output_type": "execute_result"
    }
   ],
   "source": [
    "# working_hours = 330:720\n",
    "full_d_asks[4, :, 330:720]"
   ],
   "metadata": {
    "collapsed": false,
    "pycharm": {
     "name": "#%%\n"
    }
   }
  },
  {
   "cell_type": "code",
   "execution_count": null,
   "outputs": [],
   "source": [],
   "metadata": {
    "collapsed": false,
    "pycharm": {
     "name": "#%%\n"
    }
   }
  },
  {
   "cell_type": "code",
   "execution_count": 8,
   "outputs": [],
   "source": [],
   "metadata": {
    "collapsed": false,
    "pycharm": {
     "name": "#%%\n"
    }
   }
  },
  {
   "cell_type": "code",
   "execution_count": 8,
   "outputs": [],
   "source": [],
   "metadata": {
    "collapsed": false,
    "pycharm": {
     "name": "#%%\n"
    }
   }
  },
  {
   "cell_type": "code",
   "execution_count": 9,
   "outputs": [],
   "source": [
    "num_layers = 5  # Price, Ordered volume, Filled volume, Canceled volume, Pending volume\n",
    "num_price_levels = 10 * 2 * 2  # price level ($10) per 50 cents per level (*2) per side (*2)\n",
    "minutes_per_day = 16 * 60 + 1  # 961, 16 hours of data per day, from 4:00 to 20:00\n",
    "\n",
    "d = np.zeros((num_layers, num_price_levels, minutes_per_day), np.float32)"
   ],
   "metadata": {
    "collapsed": false,
    "pycharm": {
     "name": "#%%\n"
    }
   }
  },
  {
   "cell_type": "code",
   "execution_count": 10,
   "outputs": [
    {
     "data": {
      "text/plain": "  0%|          | 0/909 [00:00<?, ?it/s]",
      "application/vnd.jupyter.widget-view+json": {
       "version_major": 2,
       "version_minor": 0,
       "model_id": "fd6f37ff6ad54eb288f57eb8520b9a09"
      }
     },
     "metadata": {},
     "output_type": "display_data"
    },
    {
     "data": {
      "text/plain": "Empty DataFrame\nColumns: []\nIndex: []",
      "text/html": "<div>\n<style scoped>\n    .dataframe tbody tr th:only-of-type {\n        vertical-align: middle;\n    }\n\n    .dataframe tbody tr th {\n        vertical-align: top;\n    }\n\n    .dataframe thead th {\n        text-align: right;\n    }\n</style>\n<table border=\"1\" class=\"dataframe\">\n  <thead>\n    <tr style=\"text-align: right;\">\n      <th></th>\n    </tr>\n  </thead>\n  <tbody>\n  </tbody>\n</table>\n</div>"
     },
     "execution_count": 10,
     "metadata": {},
     "output_type": "execute_result"
    }
   ],
   "source": [
    "def process_records_time_groups(records_time_groups):\n",
    "    # TODO: think of setting same middle price levels for asks and bids\n",
    "\n",
    "    time_index = records_time_groups.iloc[0]['time_index']\n",
    "    asks = records_time_groups.loc[records_time_groups['EventType'].str.contains('ASK')]\n",
    "    bids = records_time_groups.loc[records_time_groups['EventType'].str.contains('BID')]\n",
    "\n",
    "    non_zero_asks = asks.loc[asks['Price'] != 0].sort_values('Price', ascending=True)\n",
    "    non_zero_bids = bids.loc[bids['Price'] != 0].sort_values('Price', ascending=False)\n",
    "\n",
    "    if non_zero_asks.shape[0] != 0:\n",
    "        lowest_ask = int(non_zero_asks.iloc[0]['Price'] * 2) / 2\n",
    "\n",
    "        asks_incrementer = 0\n",
    "        for d_price_index in range(int(num_price_levels / 2) - 1, 0 - 1, -1):\n",
    "            d[0, d_price_index, time_index] = lowest_ask + asks_incrementer\n",
    "            asks_incrementer += floor_price_round\n",
    "\n",
    "\n",
    "        # if record.EventType == 'ADD ASK':\n",
    "        #     return price, record.time_index\n",
    "\n",
    "    if non_zero_bids.shape[0] != 0:\n",
    "        highest_bid = int(non_zero_bids.iloc[0]['Price'] * 2) / 2\n",
    "\n",
    "        bids_decrementer = 0\n",
    "        for d_price_index in range(int(num_price_levels / 2), num_price_levels):\n",
    "            d[0, d_price_index, time_index] = highest_bid - bids_decrementer\n",
    "            bids_decrementer -= floor_price_round\n",
    "\n",
    "\n",
    "records.groupby('time_index').progress_apply(process_records_time_groups)"
   ],
   "metadata": {
    "collapsed": false,
    "pycharm": {
     "name": "#%%\n"
    }
   }
  },
  {
   "cell_type": "code",
   "execution_count": 12,
   "outputs": [
    {
     "data": {
      "text/plain": "array([[178.5, 179. , 179. , ..., 181.5, 181.5,   0. ],\n       [178. , 178.5, 178.5, ..., 181. , 181. ,   0. ],\n       [177.5, 178. , 178. , ..., 180.5, 180.5,   0. ],\n       ...,\n       [177.5, 177.5, 177. , ..., 180.5, 180.5,   0. ],\n       [178. , 178. , 177.5, ..., 181. , 181. ,   0. ],\n       [178.5, 178.5, 178. , ..., 181.5, 181.5,   0. ]], dtype=float32)"
     },
     "execution_count": 12,
     "metadata": {},
     "output_type": "execute_result"
    }
   ],
   "source": [
    "d[0]"
   ],
   "metadata": {
    "collapsed": false,
    "pycharm": {
     "name": "#%%\n"
    }
   }
  },
  {
   "cell_type": "code",
   "execution_count": 28,
   "outputs": [
    {
     "data": {
      "text/plain": "<Figure size 8640x36 with 2 Axes>",
      "image/png": "[encoded data removed]"
     },
     "metadata": {
      "needs_background": "light"
     },
     "output_type": "display_data"
    }
   ],
   "source": [
    "plt.figure(figsize=(120, 0.5))\n",
    "sns.heatmap(d[0])\n",
    "# plt.imshow(d[0], cmap='viridis')\n",
    "plt.show()"
   ],
   "metadata": {
    "collapsed": false,
    "pycharm": {
     "name": "#%%\n"
    }
   }
  },
  {
   "cell_type": "code",
   "execution_count": null,
   "outputs": [],
   "source": [],
   "metadata": {
    "collapsed": false,
    "pycharm": {
     "name": "#%%\n"
    }
   }
  },
  {
   "cell_type": "code",
   "execution_count": null,
   "outputs": [],
   "source": [],
   "metadata": {
    "collapsed": false,
    "pycharm": {
     "name": "#%%\n"
    }
   }
  },
  {
   "cell_type": "code",
   "execution_count": null,
   "outputs": [],
   "source": [],
   "metadata": {
    "collapsed": false,
    "pycharm": {
     "name": "#%%\n"
    }
   }
  },
  {
   "cell_type": "code",
   "execution_count": null,
   "outputs": [],
   "source": [],
   "metadata": {
    "collapsed": false,
    "pycharm": {
     "name": "#%%\n"
    }
   }
  },
  {
   "cell_type": "code",
   "execution_count": null,
   "outputs": [],
   "source": [],
   "metadata": {
    "collapsed": false,
    "pycharm": {
     "name": "#%%\n"
    }
   }
  },
  {
   "cell_type": "code",
   "execution_count": null,
   "outputs": [],
   "source": [],
   "metadata": {
    "collapsed": false,
    "pycharm": {
     "name": "#%%\n"
    }
   }
  },
  {
   "cell_type": "code",
   "execution_count": null,
   "outputs": [],
   "source": [],
   "metadata": {
    "collapsed": false,
    "pycharm": {
     "name": "#%%\n"
    }
   }
  },
  {
   "cell_type": "code",
   "execution_count": null,
   "outputs": [],
   "source": [],
   "metadata": {
    "collapsed": false,
    "pycharm": {
     "name": "#%%\n"
    }
   }
  },
  {
   "cell_type": "code",
   "execution_count": null,
   "outputs": [],
   "source": [],
   "metadata": {
    "collapsed": false,
    "pycharm": {
     "name": "#%%\n"
    }
   }
  },
  {
   "cell_type": "code",
   "execution_count": null,
   "outputs": [],
   "source": [],
   "metadata": {
    "collapsed": false,
    "pycharm": {
     "name": "#%%\n"
    }
   }
  },
  {
   "cell_type": "code",
   "execution_count": null,
   "outputs": [],
   "source": [],
   "metadata": {
    "collapsed": false,
    "pycharm": {
     "name": "#%%\n"
    }
   }
  },
  {
   "cell_type": "code",
   "execution_count": null,
   "outputs": [],
   "source": [],
   "metadata": {
    "collapsed": false,
    "pycharm": {
     "name": "#%%\n"
    }
   }
  },
  {
   "cell_type": "code",
   "execution_count": 5,
   "outputs": [
    {
     "data": {
      "text/plain": "         OrderNumber  EventType   Price  Quantity  time_index    index\n928552     156893773    ADD ASK  171.96       400         628   928552\n1010991    172444145    ADD ASK  171.92       900         670  1010991\n1010990    172444141    ADD ASK  171.92       900         670  1010990\n266062       5015388    ADD ASK  172.86       100         366   266062\n633433     105671565    ADD ASK  171.45       100         487   633433\n...              ...        ...     ...       ...         ...      ...\n523797             0  TRADE BID  171.29         6         441   523797\n273017             0  TRADE BID  171.24         1         368   273017\n520790             0  TRADE BID  171.34       100         440   520790\n294415             0  TRADE BID  171.20        20         373   294415\n487765             0  TRADE BID  171.29       101         429   487765\n\n[62 rows x 6 columns]",
      "text/html": "<div>\n<style scoped>\n    .dataframe tbody tr th:only-of-type {\n        vertical-align: middle;\n    }\n\n    .dataframe tbody tr th {\n        vertical-align: top;\n    }\n\n    .dataframe thead th {\n        text-align: right;\n    }\n</style>\n<table border=\"1\" class=\"dataframe\">\n  <thead>\n    <tr style=\"text-align: right;\">\n      <th></th>\n      <th>OrderNumber</th>\n      <th>EventType</th>\n      <th>Price</th>\n      <th>Quantity</th>\n      <th>time_index</th>\n      <th>index</th>\n    </tr>\n  </thead>\n  <tbody>\n    <tr>\n      <th>928552</th>\n      <td>156893773</td>\n      <td>ADD ASK</td>\n      <td>171.96</td>\n      <td>400</td>\n      <td>628</td>\n      <td>928552</td>\n    </tr>\n    <tr>\n      <th>1010991</th>\n      <td>172444145</td>\n      <td>ADD ASK</td>\n      <td>171.92</td>\n      <td>900</td>\n      <td>670</td>\n      <td>1010991</td>\n    </tr>\n    <tr>\n      <th>1010990</th>\n      <td>172444141</td>\n      <td>ADD ASK</td>\n      <td>171.92</td>\n      <td>900</td>\n      <td>670</td>\n      <td>1010990</td>\n    </tr>\n    <tr>\n      <th>266062</th>\n      <td>5015388</td>\n      <td>ADD ASK</td>\n      <td>172.86</td>\n      <td>100</td>\n      <td>366</td>\n      <td>266062</td>\n    </tr>\n    <tr>\n      <th>633433</th>\n      <td>105671565</td>\n      <td>ADD ASK</td>\n      <td>171.45</td>\n      <td>100</td>\n      <td>487</td>\n      <td>633433</td>\n    </tr>\n    <tr>\n      <th>...</th>\n      <td>...</td>\n      <td>...</td>\n      <td>...</td>\n      <td>...</td>\n      <td>...</td>\n      <td>...</td>\n    </tr>\n    <tr>\n      <th>523797</th>\n      <td>0</td>\n      <td>TRADE BID</td>\n      <td>171.29</td>\n      <td>6</td>\n      <td>441</td>\n      <td>523797</td>\n    </tr>\n    <tr>\n      <th>273017</th>\n      <td>0</td>\n      <td>TRADE BID</td>\n      <td>171.24</td>\n      <td>1</td>\n      <td>368</td>\n      <td>273017</td>\n    </tr>\n    <tr>\n      <th>520790</th>\n      <td>0</td>\n      <td>TRADE BID</td>\n      <td>171.34</td>\n      <td>100</td>\n      <td>440</td>\n      <td>520790</td>\n    </tr>\n    <tr>\n      <th>294415</th>\n      <td>0</td>\n      <td>TRADE BID</td>\n      <td>171.20</td>\n      <td>20</td>\n      <td>373</td>\n      <td>294415</td>\n    </tr>\n    <tr>\n      <th>487765</th>\n      <td>0</td>\n      <td>TRADE BID</td>\n      <td>171.29</td>\n      <td>101</td>\n      <td>429</td>\n      <td>487765</td>\n    </tr>\n  </tbody>\n</table>\n<p>62 rows × 6 columns</p>\n</div>"
     },
     "execution_count": 5,
     "metadata": {},
     "output_type": "execute_result"
    }
   ],
   "source": [
    "records.sort_values('EventType').groupby('EventType').head(5)"
   ],
   "metadata": {
    "collapsed": false,
    "pycharm": {
     "name": "#%%\n"
    }
   }
  },
  {
   "cell_type": "code",
   "execution_count": 20,
   "outputs": [
    {
     "data": {
      "text/plain": "         OrderNumber   EventType  Price  Quantity  time_index    index\n589           141137  DELETE ASK    0.0         0           0      589\n811742     138935721  DELETE ASK    0.0         0         579   811742\n811746     138954557  DELETE ASK    0.0         0         579   811746\n811747     138965221  DELETE ASK    0.0         0         579   811747\n811750     138954509  DELETE ASK    0.0         0         579   811750\n...              ...         ...    ...       ...         ...      ...\n436973      69609953  DELETE ASK    0.0         0         409   436973\n436978      69622857  DELETE ASK    0.0         0         409   436978\n436989      69622873  DELETE ASK    0.0         0         409   436989\n436930      69603641  DELETE ASK    0.0         0         409   436930\n1191844    201371985  DELETE ASK    0.0         0         960  1191844\n\n[178647 rows x 6 columns]",
      "text/html": "<div>\n<style scoped>\n    .dataframe tbody tr th:only-of-type {\n        vertical-align: middle;\n    }\n\n    .dataframe tbody tr th {\n        vertical-align: top;\n    }\n\n    .dataframe thead th {\n        text-align: right;\n    }\n</style>\n<table border=\"1\" class=\"dataframe\">\n  <thead>\n    <tr style=\"text-align: right;\">\n      <th></th>\n      <th>OrderNumber</th>\n      <th>EventType</th>\n      <th>Price</th>\n      <th>Quantity</th>\n      <th>time_index</th>\n      <th>index</th>\n    </tr>\n  </thead>\n  <tbody>\n    <tr>\n      <th>589</th>\n      <td>141137</td>\n      <td>DELETE ASK</td>\n      <td>0.0</td>\n      <td>0</td>\n      <td>0</td>\n      <td>589</td>\n    </tr>\n    <tr>\n      <th>811742</th>\n      <td>138935721</td>\n      <td>DELETE ASK</td>\n      <td>0.0</td>\n      <td>0</td>\n      <td>579</td>\n      <td>811742</td>\n    </tr>\n    <tr>\n      <th>811746</th>\n      <td>138954557</td>\n      <td>DELETE ASK</td>\n      <td>0.0</td>\n      <td>0</td>\n      <td>579</td>\n      <td>811746</td>\n    </tr>\n    <tr>\n      <th>811747</th>\n      <td>138965221</td>\n      <td>DELETE ASK</td>\n      <td>0.0</td>\n      <td>0</td>\n      <td>579</td>\n      <td>811747</td>\n    </tr>\n    <tr>\n      <th>811750</th>\n      <td>138954509</td>\n      <td>DELETE ASK</td>\n      <td>0.0</td>\n      <td>0</td>\n      <td>579</td>\n      <td>811750</td>\n    </tr>\n    <tr>\n      <th>...</th>\n      <td>...</td>\n      <td>...</td>\n      <td>...</td>\n      <td>...</td>\n      <td>...</td>\n      <td>...</td>\n    </tr>\n    <tr>\n      <th>436973</th>\n      <td>69609953</td>\n      <td>DELETE ASK</td>\n      <td>0.0</td>\n      <td>0</td>\n      <td>409</td>\n      <td>436973</td>\n    </tr>\n    <tr>\n      <th>436978</th>\n      <td>69622857</td>\n      <td>DELETE ASK</td>\n      <td>0.0</td>\n      <td>0</td>\n      <td>409</td>\n      <td>436978</td>\n    </tr>\n    <tr>\n      <th>436989</th>\n      <td>69622873</td>\n      <td>DELETE ASK</td>\n      <td>0.0</td>\n      <td>0</td>\n      <td>409</td>\n      <td>436989</td>\n    </tr>\n    <tr>\n      <th>436930</th>\n      <td>69603641</td>\n      <td>DELETE ASK</td>\n      <td>0.0</td>\n      <td>0</td>\n      <td>409</td>\n      <td>436930</td>\n    </tr>\n    <tr>\n      <th>1191844</th>\n      <td>201371985</td>\n      <td>DELETE ASK</td>\n      <td>0.0</td>\n      <td>0</td>\n      <td>960</td>\n      <td>1191844</td>\n    </tr>\n  </tbody>\n</table>\n<p>178647 rows × 6 columns</p>\n</div>"
     },
     "execution_count": 20,
     "metadata": {},
     "output_type": "execute_result"
    }
   ],
   "source": [
    "records.loc[records['EventType'] == 'DELETE ASK'].loc[records['Quantity'] == 0].sort_values('Quantity')"
   ],
   "metadata": {
    "collapsed": false,
    "pycharm": {
     "name": "#%%\n"
    }
   }
  },
  {
   "cell_type": "code",
   "execution_count": 24,
   "outputs": [
    {
     "data": {
      "text/plain": "        OrderNumber   EventType   Price  Quantity  time_index   index\n809958    138776197     ADD ASK  171.65       100         578  809958\n810443    138776197  DELETE ASK    0.00         0         579  810443",
      "text/html": "<div>\n<style scoped>\n    .dataframe tbody tr th:only-of-type {\n        vertical-align: middle;\n    }\n\n    .dataframe tbody tr th {\n        vertical-align: top;\n    }\n\n    .dataframe thead th {\n        text-align: right;\n    }\n</style>\n<table border=\"1\" class=\"dataframe\">\n  <thead>\n    <tr style=\"text-align: right;\">\n      <th></th>\n      <th>OrderNumber</th>\n      <th>EventType</th>\n      <th>Price</th>\n      <th>Quantity</th>\n      <th>time_index</th>\n      <th>index</th>\n    </tr>\n  </thead>\n  <tbody>\n    <tr>\n      <th>809958</th>\n      <td>138776197</td>\n      <td>ADD ASK</td>\n      <td>171.65</td>\n      <td>100</td>\n      <td>578</td>\n      <td>809958</td>\n    </tr>\n    <tr>\n      <th>810443</th>\n      <td>138776197</td>\n      <td>DELETE ASK</td>\n      <td>0.00</td>\n      <td>0</td>\n      <td>579</td>\n      <td>810443</td>\n    </tr>\n  </tbody>\n</table>\n</div>"
     },
     "execution_count": 24,
     "metadata": {},
     "output_type": "execute_result"
    }
   ],
   "source": [
    "records.loc[records['OrderNumber'] == 138776197]"
   ],
   "metadata": {
    "collapsed": false,
    "pycharm": {
     "name": "#%%\n"
    }
   }
  },
  {
   "cell_type": "code",
   "execution_count": 22,
   "outputs": [
    {
     "data": {
      "text/plain": "      OrderNumber   EventType  Price  Quantity  time_index  index\n2176       356617  CANCEL ASK    0.0        58          27   2176\n2177       350985  CANCEL BID    0.0        29          27   2177\n2178       357445  CANCEL BID    0.0        58          27   2178\n2179       350985  CANCEL BID    0.0       116          27   2179",
      "text/html": "<div>\n<style scoped>\n    .dataframe tbody tr th:only-of-type {\n        vertical-align: middle;\n    }\n\n    .dataframe tbody tr th {\n        vertical-align: top;\n    }\n\n    .dataframe thead th {\n        text-align: right;\n    }\n</style>\n<table border=\"1\" class=\"dataframe\">\n  <thead>\n    <tr style=\"text-align: right;\">\n      <th></th>\n      <th>OrderNumber</th>\n      <th>EventType</th>\n      <th>Price</th>\n      <th>Quantity</th>\n      <th>time_index</th>\n      <th>index</th>\n    </tr>\n  </thead>\n  <tbody>\n    <tr>\n      <th>2176</th>\n      <td>356617</td>\n      <td>CANCEL ASK</td>\n      <td>0.0</td>\n      <td>58</td>\n      <td>27</td>\n      <td>2176</td>\n    </tr>\n    <tr>\n      <th>2177</th>\n      <td>350985</td>\n      <td>CANCEL BID</td>\n      <td>0.0</td>\n      <td>29</td>\n      <td>27</td>\n      <td>2177</td>\n    </tr>\n    <tr>\n      <th>2178</th>\n      <td>357445</td>\n      <td>CANCEL BID</td>\n      <td>0.0</td>\n      <td>58</td>\n      <td>27</td>\n      <td>2178</td>\n    </tr>\n    <tr>\n      <th>2179</th>\n      <td>350985</td>\n      <td>CANCEL BID</td>\n      <td>0.0</td>\n      <td>116</td>\n      <td>27</td>\n      <td>2179</td>\n    </tr>\n  </tbody>\n</table>\n</div>"
     },
     "execution_count": 22,
     "metadata": {},
     "output_type": "execute_result"
    }
   ],
   "source": [
    "records.loc[records['time_index'] == 27]"
   ],
   "metadata": {
    "collapsed": false,
    "pycharm": {
     "name": "#%%\n"
    }
   }
  },
  {
   "cell_type": "code",
   "execution_count": null,
   "outputs": [],
   "source": [],
   "metadata": {
    "collapsed": false,
    "pycharm": {
     "name": "#%%\n"
    }
   }
  },
  {
   "cell_type": "code",
   "execution_count": null,
   "outputs": [],
   "source": [],
   "metadata": {
    "collapsed": false,
    "pycharm": {
     "name": "#%%\n"
    }
   }
  },
  {
   "cell_type": "code",
   "execution_count": null,
   "outputs": [],
   "source": [],
   "metadata": {
    "collapsed": false,
    "pycharm": {
     "name": "#%%\n"
    }
   }
  },
  {
   "cell_type": "code",
   "execution_count": null,
   "outputs": [],
   "source": [],
   "metadata": {
    "collapsed": false,
    "pycharm": {
     "name": "#%%\n"
    }
   }
  },
  {
   "cell_type": "code",
   "execution_count": null,
   "outputs": [],
   "source": [
    "normalized_file_columns = ['Timestamp', 'Asks', 'Bids']\n",
    "index_col = normalized_file_columns[0]\n",
    "\n",
    "normalized_df = pd.DataFrame(columns=normalized_file_columns).set_index(index_col)"
   ],
   "metadata": {
    "collapsed": false,
    "pycharm": {
     "name": "#%%\n"
    }
   }
  },
  {
   "cell_type": "code",
   "execution_count": 162,
   "outputs": [],
   "source": [
    "\n",
    "updates['price'] = np.int64(updates['price'] / floor_price_round)\n",
    "updates = updates.groupby(['timestamp', 'side', 'price']).sum().reset_index()\n",
    "\n",
    "normalized_file_name = 'BTCUSDT_DEPTH_' + date + '.csv'\n",
    "normalized_file_columns = ['unix', 'ascs', 'bids']\n",
    "index_col = normalized_file_columns[0]\n",
    "global normalized_df\n",
    "\n",
    "normalized_df = pd.DataFrame(columns=normalized_file_columns).set_index(index_col)\n",
    "\n",
    "updates.progress_apply(process_update, axis=1)\n",
    "\n",
    "print('Saving csv.')\n",
    "normalized_df.to_csv(normalized_file_name)\n",
    "\n",
    "print('Moving result file to compressed/.')\n",
    "os.rename(normalized_file_name, 'compressed/' + normalized_file_name)\n",
    "\n",
    "print('Removing temp files.')\n",
    "os.remove('BTCUSDT_T_DEPTH_' + date + '_depth_snap.csv')\n",
    "os.remove('BTCUSDT_T_DEPTH_' + date + '_depth_update.csv')\n",
    "\n",
    "with open('progress.txt', 'a') as file:\n",
    "    date_datetime = datetime.datetime.strptime(date, \"%Y-%m-%d\")\n",
    "    next_date = date_datetime + datetime.timedelta(days=1)\n",
    "    next_date = str(next_date.date())\n",
    "    file.write(next_date + \"\\n\")\n",
    "\n",
    "print('Done!')\n",
    "print('Total processing time: ' + str(datetime.datetime.now() - startTime) + '\\n')\n",
    "\n",
    "\n",
    "def process_update(update):\n",
    "    try:\n",
    "        if update.side == 'a':\n",
    "            normalized_df.loc[update.timestamp].ascs[update.price] = update.qty\n",
    "        else:\n",
    "            normalized_df.loc[update.timestamp].bids[update.price] = update.qty\n",
    "\n",
    "    except:\n",
    "        ascs = {}\n",
    "        bids = {}\n",
    "\n",
    "        if update.side == 'a':\n",
    "            ascs[update.price] = update.qty\n",
    "        else:\n",
    "            bids[update.price] = update.qty\n",
    "\n",
    "        normalized_df.loc[update.timestamp] = [ascs, bids]"
   ],
   "metadata": {
    "collapsed": false,
    "pycharm": {
     "name": "#%%\n"
    }
   }
  },
  {
   "cell_type": "code",
   "execution_count": null,
   "outputs": [],
   "source": [],
   "metadata": {
    "collapsed": false,
    "pycharm": {
     "name": "#%%\n"
    }
   }
  },
  {
   "cell_type": "code",
   "execution_count": null,
   "outputs": [],
   "source": [],
   "metadata": {
    "collapsed": false,
    "pycharm": {
     "name": "#%%\n"
    }
   }
  },
  {
   "cell_type": "code",
   "execution_count": null,
   "outputs": [],
   "source": [],
   "metadata": {
    "collapsed": false,
    "pycharm": {
     "name": "#%%\n"
    }
   }
  },
  {
   "cell_type": "code",
   "execution_count": null,
   "outputs": [],
   "source": [],
   "metadata": {
    "collapsed": false,
    "pycharm": {
     "name": "#%%\n"
    }
   }
  },
  {
   "cell_type": "code",
   "execution_count": 124,
   "outputs": [
    {
     "data": {
      "text/plain": "             Date   Timestamp  OrderNumber EventType Ticker      Price  \\\n928552   20180102  1514903297    156893773   ADD ASK   AAPL     171.96   \n633433   20180102  1514894838    105671565   ADD ASK   AAPL     171.45   \n1114320  20180102  1514908219    191080869   ADD ASK   AAPL     178.62   \n630362   20180102  1514894736    105008769   ADD ASK   AAPL     174.83   \n630366   20180102  1514894736    105008777   ADD ASK   AAPL     179.13   \n630396   20180102  1514894736    105008821   ADD ASK   AAPL     178.25   \n630371   20180102  1514894736    105008793   ADD ASK   AAPL     179.98   \n1108368  20180102  1514908165    190025429   ADD ASK   AAPL     182.37   \n668429   20180102  1514895862    112287985   ADD ASK   AAPL     185.15   \n523744   20180102  1514892072     85262245   ADD ASK   AAPL     181.57   \n856360   20180102  1514901718    146947393   ADD ASK   AAPL     182.96   \n856361   20180102  1514901718    146947629   ADD ASK   AAPL     182.96   \n856319   20180102  1514901718    146945629   ADD ASK   AAPL     182.96   \n858829   20180102  1514901746    147169337   ADD ASK   AAPL     180.47   \n20239    20180102  1514884800      5739533   ADD ASK   AAPL     204.24   \n18813    20180102  1514884260      5425717   ADD ASK   AAPL     204.28   \n22297    20180102  1514885401      7768805   ADD ASK   AAPL     204.09   \n22291    20180102  1514885401      7767929   ADD ASK   AAPL     204.19   \n22290    20180102  1514885401      7767893   ADD ASK   AAPL     204.19   \n21439    20180102  1514885395      7262501   ADD ASK   AAPL     204.19   \n21229    20180102  1514885292      6827153   ADD ASK   AAPL     204.19   \n17760    20180102  1514883627      5052329   ADD ASK   AAPL     204.18   \n23270    20180102  1514885404      8177237   ADD ASK   AAPL     204.10   \n13988    20180102  1514881153      3829933   ADD ASK   AAPL  199999.99   \n39990    20180102  1514885427      6056493   ADD ASK   AAPL     204.18   \n39989    20180102  1514885427      6055809   ADD ASK   AAPL     204.18   \n39988    20180102  1514885427      6054941   ADD ASK   AAPL     204.18   \n39986    20180102  1514885427      6052669   ADD ASK   AAPL     204.18   \n39984    20180102  1514885427      6050857   ADD ASK   AAPL     204.18   \n39982    20180102  1514885427      6049925   ADD ASK   AAPL     204.18   \n39980    20180102  1514885427      6046337   ADD ASK   AAPL     204.18   \n39978    20180102  1514885427      6045413   ADD ASK   AAPL     204.18   \n39976    20180102  1514885427      6045285   ADD ASK   AAPL     204.18   \n39974    20180102  1514885427      6045281   ADD ASK   AAPL     204.18   \n39972    20180102  1514885427      5003125   ADD ASK   AAPL     204.18   \n39968    20180102  1514885427      4875401   ADD ASK   AAPL     204.18   \n39991    20180102  1514885427      6059441   ADD ASK   AAPL     204.18   \n39992    20180102  1514885427      6060153   ADD ASK   AAPL     204.18   \n39993    20180102  1514885427      6062189   ADD ASK   AAPL     204.18   \n39994    20180102  1514885427      6065989   ADD ASK   AAPL     204.18   \n40000    20180102  1514885427      5555001   ADD ASK   AAPL     204.30   \n39999    20180102  1514885427      6248345   ADD ASK   AAPL     204.19   \n39998    20180102  1514885427      6199213   ADD ASK   AAPL     204.19   \n39997    20180102  1514885427      6146829   ADD ASK   AAPL     204.19   \n39996    20180102  1514885427      6068833   ADD ASK   AAPL     204.18   \n39995    20180102  1514885427      6068317   ADD ASK   AAPL     204.18   \n39898    20180102  1514885427      4569765   ADD ASK   AAPL     204.16   \n39896    20180102  1514885427      4462009   ADD ASK   AAPL     204.12   \n39894    20180102  1514885427      4080293   ADD ASK   AAPL     204.10   \n39892    20180102  1514885427      4080285   ADD ASK   AAPL     204.10   \n39890    20180102  1514885427      4080277   ADD ASK   AAPL     204.10   \n39888    20180102  1514885427      4078493   ADD ASK   AAPL     204.10   \n\n         Quantity  MPID Exchange                DateTime  index  \n928552        400   NaN   NASDAQ 2018-01-02 14:28:17.837  37697  \n633433        100  SBSH   NASDAQ 2018-01-02 12:07:18.226  29238  \n1114320       100  UBSS   NASDAQ 2018-01-02 15:50:19.080  42619  \n630362        100  SUNT   NASDAQ 2018-01-02 12:05:36.175  29136  \n630366        100  IMCC   NASDAQ 2018-01-02 12:05:36.175  29136  \n630396        600  GSCO   NASDAQ 2018-01-02 12:05:36.176  29136  \n630371        100  CDRG   NASDAQ 2018-01-02 12:05:36.175  29136  \n1108368       100  SGAS   NASDAQ 2018-01-02 15:49:25.296  42565  \n668429        100  MSCO   NASDAQ 2018-01-02 12:24:22.850  30262  \n523744        100  XGWD   NASDAQ 2018-01-02 11:21:12.421  26472  \n856360        100  SSUS   NASDAQ 2018-01-02 14:01:58.102  36118  \n856361        100  ETMM   NASDAQ 2018-01-02 14:01:58.108  36118  \n856319        100  SUFI   NASDAQ 2018-01-02 14:01:58.068  36118  \n858829        100  CTDL   NASDAQ 2018-01-02 14:02:26.901  36146  \n20239         100  WSEA   NASDAQ 2018-01-02 09:20:00.397  19200  \n18813         100  EGMT   NASDAQ 2018-01-02 09:11:00.210  18660  \n22297         100  VIRT   NASDAQ 2018-01-02 09:30:01.163  19801  \n22291         100  VERT   NASDAQ 2018-01-02 09:30:01.156  19801  \n22290         100  NEED   NASDAQ 2018-01-02 09:30:01.156  19801  \n21439         100  DBAB   NASDAQ 2018-01-02 09:29:55.031  19795  \n21229         100  SOHO   NASDAQ 2018-01-02 09:28:12.508  19692  \n17760         100  MZHO   NASDAQ 2018-01-02 09:00:27.743  18027  \n23270         100  LEHM   NASDAQ 2018-01-02 09:30:04.455  19804  \n13988         100  NITE   NASDAQ 2018-01-02 08:19:13.821  15553  \n39990         100  STFL   NASDAQ 2018-01-02 09:30:27.847  19827  \n39989         100  COWN   NASDAQ 2018-01-02 09:30:27.847  19827  \n39988         100  JEFF   NASDAQ 2018-01-02 09:30:27.847  19827  \n39986         100  RBCM   NASDAQ 2018-01-02 09:30:27.847  19827  \n39984         100  JSSF   NASDAQ 2018-01-02 09:30:27.847  19827  \n39982         100  PUMA   NASDAQ 2018-01-02 09:30:27.847  19827  \n39980         100  CSTI   NASDAQ 2018-01-02 09:30:27.847  19827  \n39978         100  CANT   NASDAQ 2018-01-02 09:30:27.847  19827  \n39976         100  MAXM   NASDAQ 2018-01-02 09:30:27.847  19827  \n39974         100  BMOC   NASDAQ 2018-01-02 09:30:27.847  19827  \n39972         100  VNDM   NASDAQ 2018-01-02 09:30:27.847  19827  \n39968         100  WEDB   NASDAQ 2018-01-02 09:30:27.847  19827  \n39991         100  BARD   NASDAQ 2018-01-02 09:30:27.847  19827  \n39992         100  WCHV   NASDAQ 2018-01-02 09:30:27.847  19827  \n39993         100  PIPR   NASDAQ 2018-01-02 09:30:27.847  19827  \n39994         100  WBLR   NASDAQ 2018-01-02 09:30:27.847  19827  \n40000         100  JPMS   NASDAQ 2018-01-02 09:30:27.847  19827  \n39999         100  ADAM   NASDAQ 2018-01-02 09:30:27.847  19827  \n39998         100  RHCO   NASDAQ 2018-01-02 09:30:27.847  19827  \n39997         100  LEER   NASDAQ 2018-01-02 09:30:27.847  19827  \n39996         100  FBRC   NASDAQ 2018-01-02 09:30:27.847  19827  \n39995         100  BKMM   NASDAQ 2018-01-02 09:30:27.847  19827  \n39898         100  OPCO   NASDAQ 2018-01-02 09:30:27.842  19827  \n39896         100  VFIN   NASDAQ 2018-01-02 09:30:27.842  19827  \n39894         100  KEYB   NASDAQ 2018-01-02 09:30:27.842  19827  \n39892         100  RAJA   NASDAQ 2018-01-02 09:30:27.842  19827  \n39890         100  WABR   NASDAQ 2018-01-02 09:30:27.842  19827  \n39888         100  MLCO   NASDAQ 2018-01-02 09:30:27.842  19827  ",
      "text/html": "<div>\n<style scoped>\n    .dataframe tbody tr th:only-of-type {\n        vertical-align: middle;\n    }\n\n    .dataframe tbody tr th {\n        vertical-align: top;\n    }\n\n    .dataframe thead th {\n        text-align: right;\n    }\n</style>\n<table border=\"1\" class=\"dataframe\">\n  <thead>\n    <tr style=\"text-align: right;\">\n      <th></th>\n      <th>Date</th>\n      <th>Timestamp</th>\n      <th>OrderNumber</th>\n      <th>EventType</th>\n      <th>Ticker</th>\n      <th>Price</th>\n      <th>Quantity</th>\n      <th>MPID</th>\n      <th>Exchange</th>\n      <th>DateTime</th>\n      <th>index</th>\n    </tr>\n  </thead>\n  <tbody>\n    <tr>\n      <th>928552</th>\n      <td>20180102</td>\n      <td>1514903297</td>\n      <td>156893773</td>\n      <td>ADD ASK</td>\n      <td>AAPL</td>\n      <td>171.96</td>\n      <td>400</td>\n      <td>NaN</td>\n      <td>NASDAQ</td>\n      <td>2018-01-02 14:28:17.837</td>\n      <td>37697</td>\n    </tr>\n    <tr>\n      <th>633433</th>\n      <td>20180102</td>\n      <td>1514894838</td>\n      <td>105671565</td>\n      <td>ADD ASK</td>\n      <td>AAPL</td>\n      <td>171.45</td>\n      <td>100</td>\n      <td>SBSH</td>\n      <td>NASDAQ</td>\n      <td>2018-01-02 12:07:18.226</td>\n      <td>29238</td>\n    </tr>\n    <tr>\n      <th>1114320</th>\n      <td>20180102</td>\n      <td>1514908219</td>\n      <td>191080869</td>\n      <td>ADD ASK</td>\n      <td>AAPL</td>\n      <td>178.62</td>\n      <td>100</td>\n      <td>UBSS</td>\n      <td>NASDAQ</td>\n      <td>2018-01-02 15:50:19.080</td>\n      <td>42619</td>\n    </tr>\n    <tr>\n      <th>630362</th>\n      <td>20180102</td>\n      <td>1514894736</td>\n      <td>105008769</td>\n      <td>ADD ASK</td>\n      <td>AAPL</td>\n      <td>174.83</td>\n      <td>100</td>\n      <td>SUNT</td>\n      <td>NASDAQ</td>\n      <td>2018-01-02 12:05:36.175</td>\n      <td>29136</td>\n    </tr>\n    <tr>\n      <th>630366</th>\n      <td>20180102</td>\n      <td>1514894736</td>\n      <td>105008777</td>\n      <td>ADD ASK</td>\n      <td>AAPL</td>\n      <td>179.13</td>\n      <td>100</td>\n      <td>IMCC</td>\n      <td>NASDAQ</td>\n      <td>2018-01-02 12:05:36.175</td>\n      <td>29136</td>\n    </tr>\n    <tr>\n      <th>630396</th>\n      <td>20180102</td>\n      <td>1514894736</td>\n      <td>105008821</td>\n      <td>ADD ASK</td>\n      <td>AAPL</td>\n      <td>178.25</td>\n      <td>600</td>\n      <td>GSCO</td>\n      <td>NASDAQ</td>\n      <td>2018-01-02 12:05:36.176</td>\n      <td>29136</td>\n    </tr>\n    <tr>\n      <th>630371</th>\n      <td>20180102</td>\n      <td>1514894736</td>\n      <td>105008793</td>\n      <td>ADD ASK</td>\n      <td>AAPL</td>\n      <td>179.98</td>\n      <td>100</td>\n      <td>CDRG</td>\n      <td>NASDAQ</td>\n      <td>2018-01-02 12:05:36.175</td>\n      <td>29136</td>\n    </tr>\n    <tr>\n      <th>1108368</th>\n      <td>20180102</td>\n      <td>1514908165</td>\n      <td>190025429</td>\n      <td>ADD ASK</td>\n      <td>AAPL</td>\n      <td>182.37</td>\n      <td>100</td>\n      <td>SGAS</td>\n      <td>NASDAQ</td>\n      <td>2018-01-02 15:49:25.296</td>\n      <td>42565</td>\n    </tr>\n    <tr>\n      <th>668429</th>\n      <td>20180102</td>\n      <td>1514895862</td>\n      <td>112287985</td>\n      <td>ADD ASK</td>\n      <td>AAPL</td>\n      <td>185.15</td>\n      <td>100</td>\n      <td>MSCO</td>\n      <td>NASDAQ</td>\n      <td>2018-01-02 12:24:22.850</td>\n      <td>30262</td>\n    </tr>\n    <tr>\n      <th>523744</th>\n      <td>20180102</td>\n      <td>1514892072</td>\n      <td>85262245</td>\n      <td>ADD ASK</td>\n      <td>AAPL</td>\n      <td>181.57</td>\n      <td>100</td>\n      <td>XGWD</td>\n      <td>NASDAQ</td>\n      <td>2018-01-02 11:21:12.421</td>\n      <td>26472</td>\n    </tr>\n    <tr>\n      <th>856360</th>\n      <td>20180102</td>\n      <td>1514901718</td>\n      <td>146947393</td>\n      <td>ADD ASK</td>\n      <td>AAPL</td>\n      <td>182.96</td>\n      <td>100</td>\n      <td>SSUS</td>\n      <td>NASDAQ</td>\n      <td>2018-01-02 14:01:58.102</td>\n      <td>36118</td>\n    </tr>\n    <tr>\n      <th>856361</th>\n      <td>20180102</td>\n      <td>1514901718</td>\n      <td>146947629</td>\n      <td>ADD ASK</td>\n      <td>AAPL</td>\n      <td>182.96</td>\n      <td>100</td>\n      <td>ETMM</td>\n      <td>NASDAQ</td>\n      <td>2018-01-02 14:01:58.108</td>\n      <td>36118</td>\n    </tr>\n    <tr>\n      <th>856319</th>\n      <td>20180102</td>\n      <td>1514901718</td>\n      <td>146945629</td>\n      <td>ADD ASK</td>\n      <td>AAPL</td>\n      <td>182.96</td>\n      <td>100</td>\n      <td>SUFI</td>\n      <td>NASDAQ</td>\n      <td>2018-01-02 14:01:58.068</td>\n      <td>36118</td>\n    </tr>\n    <tr>\n      <th>858829</th>\n      <td>20180102</td>\n      <td>1514901746</td>\n      <td>147169337</td>\n      <td>ADD ASK</td>\n      <td>AAPL</td>\n      <td>180.47</td>\n      <td>100</td>\n      <td>CTDL</td>\n      <td>NASDAQ</td>\n      <td>2018-01-02 14:02:26.901</td>\n      <td>36146</td>\n    </tr>\n    <tr>\n      <th>20239</th>\n      <td>20180102</td>\n      <td>1514884800</td>\n      <td>5739533</td>\n      <td>ADD ASK</td>\n      <td>AAPL</td>\n      <td>204.24</td>\n      <td>100</td>\n      <td>WSEA</td>\n      <td>NASDAQ</td>\n      <td>2018-01-02 09:20:00.397</td>\n      <td>19200</td>\n    </tr>\n    <tr>\n      <th>18813</th>\n      <td>20180102</td>\n      <td>1514884260</td>\n      <td>5425717</td>\n      <td>ADD ASK</td>\n      <td>AAPL</td>\n      <td>204.28</td>\n      <td>100</td>\n      <td>EGMT</td>\n      <td>NASDAQ</td>\n      <td>2018-01-02 09:11:00.210</td>\n      <td>18660</td>\n    </tr>\n    <tr>\n      <th>22297</th>\n      <td>20180102</td>\n      <td>1514885401</td>\n      <td>7768805</td>\n      <td>ADD ASK</td>\n      <td>AAPL</td>\n      <td>204.09</td>\n      <td>100</td>\n      <td>VIRT</td>\n      <td>NASDAQ</td>\n      <td>2018-01-02 09:30:01.163</td>\n      <td>19801</td>\n    </tr>\n    <tr>\n      <th>22291</th>\n      <td>20180102</td>\n      <td>1514885401</td>\n      <td>7767929</td>\n      <td>ADD ASK</td>\n      <td>AAPL</td>\n      <td>204.19</td>\n      <td>100</td>\n      <td>VERT</td>\n      <td>NASDAQ</td>\n      <td>2018-01-02 09:30:01.156</td>\n      <td>19801</td>\n    </tr>\n    <tr>\n      <th>22290</th>\n      <td>20180102</td>\n      <td>1514885401</td>\n      <td>7767893</td>\n      <td>ADD ASK</td>\n      <td>AAPL</td>\n      <td>204.19</td>\n      <td>100</td>\n      <td>NEED</td>\n      <td>NASDAQ</td>\n      <td>2018-01-02 09:30:01.156</td>\n      <td>19801</td>\n    </tr>\n    <tr>\n      <th>21439</th>\n      <td>20180102</td>\n      <td>1514885395</td>\n      <td>7262501</td>\n      <td>ADD ASK</td>\n      <td>AAPL</td>\n      <td>204.19</td>\n      <td>100</td>\n      <td>DBAB</td>\n      <td>NASDAQ</td>\n      <td>2018-01-02 09:29:55.031</td>\n      <td>19795</td>\n    </tr>\n    <tr>\n      <th>21229</th>\n      <td>20180102</td>\n      <td>1514885292</td>\n      <td>6827153</td>\n      <td>ADD ASK</td>\n      <td>AAPL</td>\n      <td>204.19</td>\n      <td>100</td>\n      <td>SOHO</td>\n      <td>NASDAQ</td>\n      <td>2018-01-02 09:28:12.508</td>\n      <td>19692</td>\n    </tr>\n    <tr>\n      <th>17760</th>\n      <td>20180102</td>\n      <td>1514883627</td>\n      <td>5052329</td>\n      <td>ADD ASK</td>\n      <td>AAPL</td>\n      <td>204.18</td>\n      <td>100</td>\n      <td>MZHO</td>\n      <td>NASDAQ</td>\n      <td>2018-01-02 09:00:27.743</td>\n      <td>18027</td>\n    </tr>\n    <tr>\n      <th>23270</th>\n      <td>20180102</td>\n      <td>1514885404</td>\n      <td>8177237</td>\n      <td>ADD ASK</td>\n      <td>AAPL</td>\n      <td>204.10</td>\n      <td>100</td>\n      <td>LEHM</td>\n      <td>NASDAQ</td>\n      <td>2018-01-02 09:30:04.455</td>\n      <td>19804</td>\n    </tr>\n    <tr>\n      <th>13988</th>\n      <td>20180102</td>\n      <td>1514881153</td>\n      <td>3829933</td>\n      <td>ADD ASK</td>\n      <td>AAPL</td>\n      <td>199999.99</td>\n      <td>100</td>\n      <td>NITE</td>\n      <td>NASDAQ</td>\n      <td>2018-01-02 08:19:13.821</td>\n      <td>15553</td>\n    </tr>\n    <tr>\n      <th>39990</th>\n      <td>20180102</td>\n      <td>1514885427</td>\n      <td>6056493</td>\n      <td>ADD ASK</td>\n      <td>AAPL</td>\n      <td>204.18</td>\n      <td>100</td>\n      <td>STFL</td>\n      <td>NASDAQ</td>\n      <td>2018-01-02 09:30:27.847</td>\n      <td>19827</td>\n    </tr>\n    <tr>\n      <th>39989</th>\n      <td>20180102</td>\n      <td>1514885427</td>\n      <td>6055809</td>\n      <td>ADD ASK</td>\n      <td>AAPL</td>\n      <td>204.18</td>\n      <td>100</td>\n      <td>COWN</td>\n      <td>NASDAQ</td>\n      <td>2018-01-02 09:30:27.847</td>\n      <td>19827</td>\n    </tr>\n    <tr>\n      <th>39988</th>\n      <td>20180102</td>\n      <td>1514885427</td>\n      <td>6054941</td>\n      <td>ADD ASK</td>\n      <td>AAPL</td>\n      <td>204.18</td>\n      <td>100</td>\n      <td>JEFF</td>\n      <td>NASDAQ</td>\n      <td>2018-01-02 09:30:27.847</td>\n      <td>19827</td>\n    </tr>\n    <tr>\n      <th>39986</th>\n      <td>20180102</td>\n      <td>1514885427</td>\n      <td>6052669</td>\n      <td>ADD ASK</td>\n      <td>AAPL</td>\n      <td>204.18</td>\n      <td>100</td>\n      <td>RBCM</td>\n      <td>NASDAQ</td>\n      <td>2018-01-02 09:30:27.847</td>\n      <td>19827</td>\n    </tr>\n    <tr>\n      <th>39984</th>\n      <td>20180102</td>\n      <td>1514885427</td>\n      <td>6050857</td>\n      <td>ADD ASK</td>\n      <td>AAPL</td>\n      <td>204.18</td>\n      <td>100</td>\n      <td>JSSF</td>\n      <td>NASDAQ</td>\n      <td>2018-01-02 09:30:27.847</td>\n      <td>19827</td>\n    </tr>\n    <tr>\n      <th>39982</th>\n      <td>20180102</td>\n      <td>1514885427</td>\n      <td>6049925</td>\n      <td>ADD ASK</td>\n      <td>AAPL</td>\n      <td>204.18</td>\n      <td>100</td>\n      <td>PUMA</td>\n      <td>NASDAQ</td>\n      <td>2018-01-02 09:30:27.847</td>\n      <td>19827</td>\n    </tr>\n    <tr>\n      <th>39980</th>\n      <td>20180102</td>\n      <td>1514885427</td>\n      <td>6046337</td>\n      <td>ADD ASK</td>\n      <td>AAPL</td>\n      <td>204.18</td>\n      <td>100</td>\n      <td>CSTI</td>\n      <td>NASDAQ</td>\n      <td>2018-01-02 09:30:27.847</td>\n      <td>19827</td>\n    </tr>\n    <tr>\n      <th>39978</th>\n      <td>20180102</td>\n      <td>1514885427</td>\n      <td>6045413</td>\n      <td>ADD ASK</td>\n      <td>AAPL</td>\n      <td>204.18</td>\n      <td>100</td>\n      <td>CANT</td>\n      <td>NASDAQ</td>\n      <td>2018-01-02 09:30:27.847</td>\n      <td>19827</td>\n    </tr>\n    <tr>\n      <th>39976</th>\n      <td>20180102</td>\n      <td>1514885427</td>\n      <td>6045285</td>\n      <td>ADD ASK</td>\n      <td>AAPL</td>\n      <td>204.18</td>\n      <td>100</td>\n      <td>MAXM</td>\n      <td>NASDAQ</td>\n      <td>2018-01-02 09:30:27.847</td>\n      <td>19827</td>\n    </tr>\n    <tr>\n      <th>39974</th>\n      <td>20180102</td>\n      <td>1514885427</td>\n      <td>6045281</td>\n      <td>ADD ASK</td>\n      <td>AAPL</td>\n      <td>204.18</td>\n      <td>100</td>\n      <td>BMOC</td>\n      <td>NASDAQ</td>\n      <td>2018-01-02 09:30:27.847</td>\n      <td>19827</td>\n    </tr>\n    <tr>\n      <th>39972</th>\n      <td>20180102</td>\n      <td>1514885427</td>\n      <td>5003125</td>\n      <td>ADD ASK</td>\n      <td>AAPL</td>\n      <td>204.18</td>\n      <td>100</td>\n      <td>VNDM</td>\n      <td>NASDAQ</td>\n      <td>2018-01-02 09:30:27.847</td>\n      <td>19827</td>\n    </tr>\n    <tr>\n      <th>39968</th>\n      <td>20180102</td>\n      <td>1514885427</td>\n      <td>4875401</td>\n      <td>ADD ASK</td>\n      <td>AAPL</td>\n      <td>204.18</td>\n      <td>100</td>\n      <td>WEDB</td>\n      <td>NASDAQ</td>\n      <td>2018-01-02 09:30:27.847</td>\n      <td>19827</td>\n    </tr>\n    <tr>\n      <th>39991</th>\n      <td>20180102</td>\n      <td>1514885427</td>\n      <td>6059441</td>\n      <td>ADD ASK</td>\n      <td>AAPL</td>\n      <td>204.18</td>\n      <td>100</td>\n      <td>BARD</td>\n      <td>NASDAQ</td>\n      <td>2018-01-02 09:30:27.847</td>\n      <td>19827</td>\n    </tr>\n    <tr>\n      <th>39992</th>\n      <td>20180102</td>\n      <td>1514885427</td>\n      <td>6060153</td>\n      <td>ADD ASK</td>\n      <td>AAPL</td>\n      <td>204.18</td>\n      <td>100</td>\n      <td>WCHV</td>\n      <td>NASDAQ</td>\n      <td>2018-01-02 09:30:27.847</td>\n      <td>19827</td>\n    </tr>\n    <tr>\n      <th>39993</th>\n      <td>20180102</td>\n      <td>1514885427</td>\n      <td>6062189</td>\n      <td>ADD ASK</td>\n      <td>AAPL</td>\n      <td>204.18</td>\n      <td>100</td>\n      <td>PIPR</td>\n      <td>NASDAQ</td>\n      <td>2018-01-02 09:30:27.847</td>\n      <td>19827</td>\n    </tr>\n    <tr>\n      <th>39994</th>\n      <td>20180102</td>\n      <td>1514885427</td>\n      <td>6065989</td>\n      <td>ADD ASK</td>\n      <td>AAPL</td>\n      <td>204.18</td>\n      <td>100</td>\n      <td>WBLR</td>\n      <td>NASDAQ</td>\n      <td>2018-01-02 09:30:27.847</td>\n      <td>19827</td>\n    </tr>\n    <tr>\n      <th>40000</th>\n      <td>20180102</td>\n      <td>1514885427</td>\n      <td>5555001</td>\n      <td>ADD ASK</td>\n      <td>AAPL</td>\n      <td>204.30</td>\n      <td>100</td>\n      <td>JPMS</td>\n      <td>NASDAQ</td>\n      <td>2018-01-02 09:30:27.847</td>\n      <td>19827</td>\n    </tr>\n    <tr>\n      <th>39999</th>\n      <td>20180102</td>\n      <td>1514885427</td>\n      <td>6248345</td>\n      <td>ADD ASK</td>\n      <td>AAPL</td>\n      <td>204.19</td>\n      <td>100</td>\n      <td>ADAM</td>\n      <td>NASDAQ</td>\n      <td>2018-01-02 09:30:27.847</td>\n      <td>19827</td>\n    </tr>\n    <tr>\n      <th>39998</th>\n      <td>20180102</td>\n      <td>1514885427</td>\n      <td>6199213</td>\n      <td>ADD ASK</td>\n      <td>AAPL</td>\n      <td>204.19</td>\n      <td>100</td>\n      <td>RHCO</td>\n      <td>NASDAQ</td>\n      <td>2018-01-02 09:30:27.847</td>\n      <td>19827</td>\n    </tr>\n    <tr>\n      <th>39997</th>\n      <td>20180102</td>\n      <td>1514885427</td>\n      <td>6146829</td>\n      <td>ADD ASK</td>\n      <td>AAPL</td>\n      <td>204.19</td>\n      <td>100</td>\n      <td>LEER</td>\n      <td>NASDAQ</td>\n      <td>2018-01-02 09:30:27.847</td>\n      <td>19827</td>\n    </tr>\n    <tr>\n      <th>39996</th>\n      <td>20180102</td>\n      <td>1514885427</td>\n      <td>6068833</td>\n      <td>ADD ASK</td>\n      <td>AAPL</td>\n      <td>204.18</td>\n      <td>100</td>\n      <td>FBRC</td>\n      <td>NASDAQ</td>\n      <td>2018-01-02 09:30:27.847</td>\n      <td>19827</td>\n    </tr>\n    <tr>\n      <th>39995</th>\n      <td>20180102</td>\n      <td>1514885427</td>\n      <td>6068317</td>\n      <td>ADD ASK</td>\n      <td>AAPL</td>\n      <td>204.18</td>\n      <td>100</td>\n      <td>BKMM</td>\n      <td>NASDAQ</td>\n      <td>2018-01-02 09:30:27.847</td>\n      <td>19827</td>\n    </tr>\n    <tr>\n      <th>39898</th>\n      <td>20180102</td>\n      <td>1514885427</td>\n      <td>4569765</td>\n      <td>ADD ASK</td>\n      <td>AAPL</td>\n      <td>204.16</td>\n      <td>100</td>\n      <td>OPCO</td>\n      <td>NASDAQ</td>\n      <td>2018-01-02 09:30:27.842</td>\n      <td>19827</td>\n    </tr>\n    <tr>\n      <th>39896</th>\n      <td>20180102</td>\n      <td>1514885427</td>\n      <td>4462009</td>\n      <td>ADD ASK</td>\n      <td>AAPL</td>\n      <td>204.12</td>\n      <td>100</td>\n      <td>VFIN</td>\n      <td>NASDAQ</td>\n      <td>2018-01-02 09:30:27.842</td>\n      <td>19827</td>\n    </tr>\n    <tr>\n      <th>39894</th>\n      <td>20180102</td>\n      <td>1514885427</td>\n      <td>4080293</td>\n      <td>ADD ASK</td>\n      <td>AAPL</td>\n      <td>204.10</td>\n      <td>100</td>\n      <td>KEYB</td>\n      <td>NASDAQ</td>\n      <td>2018-01-02 09:30:27.842</td>\n      <td>19827</td>\n    </tr>\n    <tr>\n      <th>39892</th>\n      <td>20180102</td>\n      <td>1514885427</td>\n      <td>4080285</td>\n      <td>ADD ASK</td>\n      <td>AAPL</td>\n      <td>204.10</td>\n      <td>100</td>\n      <td>RAJA</td>\n      <td>NASDAQ</td>\n      <td>2018-01-02 09:30:27.842</td>\n      <td>19827</td>\n    </tr>\n    <tr>\n      <th>39890</th>\n      <td>20180102</td>\n      <td>1514885427</td>\n      <td>4080277</td>\n      <td>ADD ASK</td>\n      <td>AAPL</td>\n      <td>204.10</td>\n      <td>100</td>\n      <td>WABR</td>\n      <td>NASDAQ</td>\n      <td>2018-01-02 09:30:27.842</td>\n      <td>19827</td>\n    </tr>\n    <tr>\n      <th>39888</th>\n      <td>20180102</td>\n      <td>1514885427</td>\n      <td>4078493</td>\n      <td>ADD ASK</td>\n      <td>AAPL</td>\n      <td>204.10</td>\n      <td>100</td>\n      <td>MLCO</td>\n      <td>NASDAQ</td>\n      <td>2018-01-02 09:30:27.842</td>\n      <td>19827</td>\n    </tr>\n  </tbody>\n</table>\n</div>"
     },
     "execution_count": 124,
     "metadata": {},
     "output_type": "execute_result"
    }
   ],
   "source": [
    "records.sort_values('EventType').groupby('MPID').head(1)"
   ],
   "metadata": {
    "collapsed": false,
    "pycharm": {
     "name": "#%%\n"
    }
   }
  },
  {
   "cell_type": "code",
   "execution_count": null,
   "outputs": [],
   "source": [],
   "metadata": {
    "collapsed": false,
    "pycharm": {
     "name": "#%%\n"
    }
   }
  },
  {
   "cell_type": "code",
   "execution_count": null,
   "outputs": [],
   "source": [
    "r2 = records\n",
    ".loc[records['EventType'] == 'DELETE ASK']\n",
    ".loc[records['Quantity'] == 0]\n",
    ".merge(right=records, on='OrderNumber')"
   ],
   "metadata": {
    "collapsed": false,
    "pycharm": {
     "name": "#%%\n"
    }
   }
  },
  {
   "cell_type": "code",
   "execution_count": null,
   "outputs": [],
   "source": [
    "r2\n",
    ".loc[r2['EventType_y'] == 'DELETE ASK']\n",
    "# .loc[r2['Quantity_y'] == 0]\n",
    "# .loc[r2['EventType_y'] != 'CANCEL ASK']\\\n",
    "# .sort_values('EventType_y').groupby('EventType_y').sum()"
   ],
   "metadata": {
    "collapsed": false,
    "pycharm": {
     "name": "#%%\n"
    }
   }
  },
  {
   "cell_type": "markdown",
   "source": [],
   "metadata": {
    "collapsed": false
   }
  }
 ],
 "metadata": {
  "kernelspec": {
   "display_name": "Python 3",
   "language": "python",
   "name": "python3"
  },
  "language_info": {
   "codemirror_mode": {
    "name": "ipython",
    "version": 2
   },
   "file_extension": ".py",
   "mimetype": "text/x-python",
   "name": "python",
   "nbconvert_exporter": "python",
   "pygments_lexer": "ipython2",
   "version": "2.7.6"
  }
 },
 "nbformat": 4,
 "nbformat_minor": 0
}