{
 "cells": [
  {
   "cell_type": "code",
   "execution_count": null,
   "outputs": [],
   "source": [
    "import matplotlib.pyplot as plt\n",
    "import numpy as np\n",
    "import os\n",
    "import pandas as pd\n",
    "import seaborn as sns\n",
    "from support import progress\n",
    "from tqdm import tqdm\n",
    "\n",
    "tqdm.pandas()\n",
    "\n",
    "date = progress.get_process_date()\n",
    "\n",
    "# TODO: save processed date\n",
    "# progress.save_processed_date(date)\n",
    "\n",
    "floor_price_round = 0.5  # TODO: levels per $ (2 / 2^2)\n",
    "filename = 'AAPL_20180102.csv'\n",
    "\n",
    "raw_columns = ['Date', 'Timestamp', 'OrderNumber', 'EventType', 'Price', 'Quantity', 'Exchange']\n",
    "records = pd.read_csv(filename, usecols=raw_columns)\n",
    "\n",
    "records['OrderNumber'] = records['Exchange'] + records['OrderNumber'].astype(str)\n",
    "\n",
    "records['DateTime'] = records['Date'].apply(str) + ' ' + records['Timestamp']\n",
    "records['DateTime'] = pd.to_datetime(records['DateTime'], format='%Y%m%d %H:%M:%S.%f')\n",
    "records['Timestamp'] = records['DateTime'].values.astype(np.int64) // 10 ** 9\n",
    "\n",
    "start_day_timestamp = int(records['DateTime'][0].timestamp())\n",
    "records['time_index'] = np.int32((records['Timestamp'] - start_day_timestamp) / 60)  # index per minute\n",
    "\n",
    "records['price_level'] = np.int32(records['Price'] * 2)  # index per minute\n",
    "\n",
    "records = records.drop(['Date', 'DateTime', 'Timestamp', 'Exchange'], axis=1)"
   ],
   "metadata": {
    "collapsed": false,
    "pycharm": {
     "name": "#%%\n"
    }
   }
  },
  {
   "cell_type": "code",
   "execution_count": null,
   "outputs": [],
   "source": [
    "# full d configuration\n",
    "num_layers = 5  # Price, Ordered volume, Filled volume, Canceled volume, Pending volume\n",
    "num_price_levels = 500 * 2  # price level ($500), 50 cents per level (*2)\n",
    "minutes_per_day = 16 * 60  # 960, 16 hours of data per day, from 4:00 to 20:00\n",
    "\n",
    "def create_zeros_array(d1, d2, d3):\n",
    "    return np.zeros((d1, d2, d3), np.float32)\n",
    "\n",
    "full_d_records = records\\\n",
    "    .loc[records['price_level'] < num_price_levels]\\\n",
    "    .loc[records['time_index'] < minutes_per_day]\n",
    "\n",
    "\n",
    "def process_add_record(r, full_d):\n",
    "    full_d[1, r.price_level, r.time_index] += r.Quantity\n",
    "\n",
    "\n",
    "def process_trade_records(r, full_d):\n",
    "    full_d[2, r.price_level, r.time_index] += r.Quantity\n",
    "\n",
    "\n",
    "def process_execute_price_records(r, full_d):\n",
    "    full_d[2, r.price_level, r.time_index] += r.Quantity\n",
    "\n",
    "\n",
    "def process_execute_priceless_records(r, full_d):\n",
    "    full_d[2, r.price_level_add, r.time_index_execute] += r.Quantity_execute\n",
    "\n",
    "\n",
    "def process_fill_records(r, full_d):\n",
    "    full_d[2, r.price_level_add, r.time_index_fill] += r.Quantity_add\n",
    "\n",
    "\n",
    "def process_cancel_records(r, full_d):\n",
    "    full_d[3, r.price_level_add, r.time_index_cancel] += r.Quantity_cancel\n",
    "\n",
    "\n",
    "def process_delete_records(r, full_d):\n",
    "    quantity = r.Quantity_delete if r.Quantity_delete != 0 else r.Quantity_add\n",
    "    full_d[3, r.price_level_add, r.time_index_delete] += quantity\n",
    "\n",
    "# side: ASK or BID\n",
    "def process_side_records(side):\n",
    "    side_matrices = create_zeros_array(num_layers, num_price_levels, minutes_per_day)\n",
    "\n",
    "    incrementer = 0\n",
    "    for d_price_index in range(0, num_price_levels):\n",
    "        for time_index in range(0, minutes_per_day):\n",
    "            side_matrices[0, d_price_index, time_index] = incrementer\n",
    "        incrementer += floor_price_round\n",
    "\n",
    "    full_d_price_records = full_d_records.loc[full_d_records['Price'] != 0]\n",
    "\n",
    "    full_d_price_records\\\n",
    "        .loc[full_d_price_records['EventType'] == 'ADD ' + side]\\\n",
    "        .apply(process_add_record, full_d=side_matrices, axis=1)\n",
    "\n",
    "    side_matrices[4] = side_matrices[1]\n",
    "\n",
    "    full_d_price_records\\\n",
    "        .loc[full_d_price_records['EventType'] == 'TRADE ' + side]\\\n",
    "        .apply(process_trade_records, full_d=side_matrices, axis=1)\n",
    "\n",
    "    full_d_price_records\\\n",
    "        .loc[full_d_price_records['EventType'] == 'EXECUTE ' + side]\\\n",
    "        .apply(process_execute_price_records, full_d=side_matrices, axis=1)\n",
    "\n",
    "\n",
    "    full_d_priceless_records = full_d_records.loc[full_d_records['Price'] == 0]\n",
    "    add_asks = full_d_records.loc[full_d_records['EventType'] == 'ADD ' + side].set_index('OrderNumber')\n",
    "\n",
    "    fill_asks = full_d_priceless_records.loc[full_d_priceless_records['EventType'] == 'FILL ' + side].set_index('OrderNumber')\n",
    "    full_fill_asks = fill_asks.join(add_asks, on='OrderNumber', how='left', lsuffix='_fill', rsuffix='_add')\n",
    "    full_fill_asks\\\n",
    "        .loc[full_fill_asks['time_index_fill'] >= full_fill_asks['time_index_add']]\\\n",
    "        .apply(process_fill_records, full_d=side_matrices, axis=1)\n",
    "\n",
    "    execute_asks = full_d_priceless_records.loc[full_d_priceless_records['EventType'] == 'EXECUTE ' + side].set_index(\n",
    "        'OrderNumber')\n",
    "    full_execute_asks = execute_asks.join(add_asks, on='OrderNumber', how='left', lsuffix='_execute', rsuffix='_add')\n",
    "    full_execute_asks\\\n",
    "        .loc[full_execute_asks['time_index_execute'] >= full_execute_asks['time_index_add']]\\\n",
    "        .apply(process_execute_priceless_records, full_d=side_matrices, axis=1)\n",
    "\n",
    "    cancel_asks = full_d_priceless_records.loc[full_d_priceless_records['EventType'] == 'CANCEL ' + side].set_index(\n",
    "        'OrderNumber')\n",
    "    full_cancel_asks = cancel_asks.join(add_asks, on='OrderNumber', how='left', lsuffix='_cancel', rsuffix='_add')\n",
    "    full_cancel_asks\\\n",
    "        .loc[full_cancel_asks['time_index_cancel'] >= full_cancel_asks['time_index_add']]\\\n",
    "        .apply(process_cancel_records, full_d=side_matrices, axis=1)\n",
    "\n",
    "\n",
    "    delete_asks = full_d_priceless_records.loc[full_d_priceless_records['EventType'] == 'DELETE ' + side].set_index(\n",
    "        'OrderNumber')\n",
    "    full_delete_asks = delete_asks.join(add_asks, on='OrderNumber', how='left', lsuffix='_delete', rsuffix='_add')\n",
    "    full_delete_asks['price_level_add'] = np.int32(\n",
    "        full_delete_asks['price_level_add'])  # after join right table has wrong column types\n",
    "    full_delete_asks\\\n",
    "        .loc[full_delete_asks['time_index_delete'] >= full_delete_asks['time_index_add']]\\\n",
    "        .apply(process_delete_records, full_d=side_matrices, axis=1)\n",
    "\n",
    "\n",
    "    for t_index in range(0, minutes_per_day):\n",
    "        for p_index in range(0, num_price_levels):\n",
    "            side_matrices[4, p_index, t_index] =\\\n",
    "                side_matrices[4, p_index, t_index - 1 if t_index - 1 > 0 else 0]\\\n",
    "                + side_matrices[1, p_index, t_index]\\\n",
    "                - side_matrices[2, p_index, t_index]\\\n",
    "                - side_matrices[3, p_index, t_index]\n",
    "\n",
    "            if side_matrices[4, p_index, t_index] < 0:\n",
    "                side_matrices[4, p_index, t_index] = 0\n",
    "\n",
    "    return side_matrices\n",
    "\n",
    "\n",
    "# working_hours = 330:720\n",
    "full_d_asks = process_side_records('ASK')[:, :, 330:720]\n",
    "full_d_bids = process_side_records('BID')[:, :, 330:720]"
   ],
   "metadata": {
    "collapsed": false,
    "pycharm": {
     "name": "#%%\n"
    }
   }
  },
  {
   "cell_type": "code",
   "execution_count": null,
   "outputs": [],
   "source": [
    "# plt.figure(figsize=(12, 8))\n",
    "# sns.heatmap(np.add(full_d_asks[1, 335:350], full_d_bids[1, 335:350]), cmap='rocket_r')\n",
    "# plt.show()"
   ],
   "metadata": {
    "collapsed": false,
    "pycharm": {
     "name": "#%%\n"
    }
   }
  },
  {
   "cell_type": "code",
   "execution_count": null,
   "outputs": [],
   "source": [
    "num_layers = 5  # Price, Ordered volume, Filled volume, Canceled volume, Pending volume\n",
    "num_price_levels = 10 * 2 * 2  # price level ($10) per 50 cents per level (*2) per side (*2)\n",
    "minutes_per_day = int(6.5 * 60)  # 6 hours 30 minutes of data per trading session, from 9:30 to 16:00\n",
    "\n",
    "d = create_zeros_array(num_layers, num_price_levels, minutes_per_day)\n",
    "\n",
    "for t_index in range(0, minutes_per_day):\n",
    "\n",
    "    lowest_ask_price = min(\n",
    "        np.where(full_d_asks[1, :, t_index] > 0)[0][0],\n",
    "        np.where(full_d_asks[2, :, t_index] > 0)[0][0],\n",
    "        np.where(full_d_asks[3, :, t_index] > 0)[0][0],\n",
    "        np.where(full_d_asks[4, :, t_index] > 0)[0][0],\n",
    "    )\n",
    "\n",
    "    highest_bid_price = max(\n",
    "        np.where(full_d_bids[1, :, t_index] > 0)[0][0],\n",
    "        np.where(full_d_bids[2, :, t_index] > 0)[0][0],\n",
    "        np.where(full_d_bids[3, :, t_index] > 0)[0][0],\n",
    "        np.where(full_d_bids[4, :, t_index] > 0)[0][0],\n",
    "    )\n",
    "\n",
    "    for l_index in range(0, num_layers):\n",
    "        d[l_index, 0:20, t_index] = np.flip(full_d_asks[l_index, lowest_ask_price:lowest_ask_price + 20, t_index])\n",
    "        d[l_index, 20:40, t_index] = np.flip(full_d_bids[l_index, highest_bid_price - 20:highest_bid_price, t_index])"
   ],
   "metadata": {
    "collapsed": false,
    "pycharm": {
     "name": "#%%\n"
    }
   }
  },
  {
   "cell_type": "code",
   "execution_count": null,
   "outputs": [],
   "source": [
    "np.save('data.npy', d)"
   ],
   "metadata": {
    "collapsed": false,
    "pycharm": {
     "name": "#%%\n"
    }
   }
  },
  {
   "cell_type": "code",
   "execution_count": null,
   "outputs": [],
   "source": [
    "d = np.load('data.npy')"
   ],
   "metadata": {
    "collapsed": false,
    "pycharm": {
     "name": "#%%\n"
    }
   }
  },
  {
   "cell_type": "code",
   "execution_count": null,
   "outputs": [],
   "source": [],
   "metadata": {
    "collapsed": false,
    "pycharm": {
     "name": "#%%\n"
    }
   }
  }
 ],
 "metadata": {
  "kernelspec": {
   "display_name": "Python 3",
   "language": "python",
   "name": "python3"
  },
  "language_info": {
   "codemirror_mode": {
    "name": "ipython",
    "version": 2
   },
   "file_extension": ".py",
   "mimetype": "text/x-python",
   "name": "python",
   "nbconvert_exporter": "python",
   "pygments_lexer": "ipython2",
   "version": "2.7.6"
  }
 },
 "nbformat": 4,
 "nbformat_minor": 0
}